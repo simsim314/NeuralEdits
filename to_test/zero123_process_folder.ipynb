{
 "cells": [
  {
   "cell_type": "code",
   "execution_count": null,
   "id": "32d5e7df-faec-4de5-a91c-9f26cfd3e62a",
   "metadata": {},
   "outputs": [],
   "source": [
    "!pip install diffusers==0.20.2 transformers accelerate"
   ]
  },
  {
   "cell_type": "code",
   "execution_count": null,
   "id": "71070ed2-c970-4163-b7fa-6b14619e9751",
   "metadata": {},
   "outputs": [],
   "source": [
    "import torch\n",
    "import requests\n",
    "from PIL import Image\n",
    "from diffusers import DiffusionPipeline, EulerAncestralDiscreteScheduler\n",
    "\n",
    "# Load the pipeline\n",
    "pipeline = DiffusionPipeline.from_pretrained(\n",
    "    \"sudo-ai/zero123plus-v1.1\", custom_pipeline=\"sudo-ai/zero123plus-pipeline\",\n",
    "    torch_dtype=torch.float16\n",
    ")\n",
    "# Feel free to tune the scheduler\n",
    "pipeline.scheduler = EulerAncestralDiscreteScheduler.from_config(\n",
    "    pipeline.scheduler.config, timestep_spacing='trailing'\n",
    ")\n",
    "pipeline.to('cuda:0')\n",
    "# Run the pipeline\n"
   ]
  },
  {
   "cell_type": "code",
   "execution_count": null,
   "id": "04e42834-d514-4112-9c08-e0676c9103f5",
   "metadata": {},
   "outputs": [],
   "source": [
    "import os\n",
    "import torch\n",
    "from PIL import Image\n",
    "from diffusers import DiffusionPipeline, EulerAncestralDiscreteScheduler\n",
    "\n",
    "def process_images(input_folder, output_folder, model_version):\n",
    "    # Load the pipeline\n",
    "    pipeline = DiffusionPipeline.from_pretrained(\n",
    "        f\"sudo-ai/{model_version}\", custom_pipeline=\"sudo-ai/zero123plus-pipeline\",\n",
    "        torch_dtype=torch.float16\n",
    "    )\n",
    "    # Tune the scheduler\n",
    "    pipeline.scheduler = EulerAncestralDiscreteScheduler.from_config(\n",
    "        pipeline.scheduler.config, timestep_spacing='trailing'\n",
    "    )\n",
    "    pipeline.to('cuda:0')\n",
    "    \n",
    "    # Walk through the input folder\n",
    "    for root, dirs, files in os.walk(input_folder):\n",
    "        for file in files:\n",
    "            if file.endswith(('.png', '.jpg', '.jpeg')):\n",
    "                file_path = os.path.join(root, file)\n",
    "                \n",
    "                cond = Image.open(file_path)\n",
    "                \n",
    "                # Run the pipeline\n",
    "                result = pipeline(cond, num_inference_steps=150).images[0]\n",
    "                \n",
    "                # Determine the relative path and the corresponding output path\n",
    "                relative_path = os.path.relpath(file_path, input_folder)\n",
    "                output_path = os.path.join(output_folder, relative_path)\n",
    "                print(output_path)\n",
    "                # Ensure the output directory exists\n",
    "                os.makedirs(os.path.dirname(output_path), exist_ok=True)\n",
    "                \n",
    "                # Save the output image\n",
    "                result.save(output_path)\n",
    "\n",
    "# Define input and output folders\n",
    "input_folder = \"output_forground\"\n",
    "output_folder_v1_2 = \"v1.2\"\n",
    "output_folder_v1_1 = \"v1.1\"\n",
    "\n",
    "# Process images for both model versions\n",
    "process_images(input_folder, output_folder_v1_2, \"zero123plus-v1.2\")\n",
    "process_images(input_folder, output_folder_v1_1, \"zero123plus-v1.1\")\n"
   ]
  }
 ],
 "metadata": {
  "kernelspec": {
   "display_name": "Python 3 (ipykernel)",
   "language": "python",
   "name": "python3"
  },
  "language_info": {
   "codemirror_mode": {
    "name": "ipython",
    "version": 3
   },
   "file_extension": ".py",
   "mimetype": "text/x-python",
   "name": "python",
   "nbconvert_exporter": "python",
   "pygments_lexer": "ipython3",
   "version": "3.10.12"
  }
 },
 "nbformat": 4,
 "nbformat_minor": 5
}
