{
 "cells": [
  {
   "cell_type": "code",
   "execution_count": null,
   "id": "bcc15a7f-725d-42ee-80ac-373a7e7fdb68",
   "metadata": {},
   "outputs": [],
   "source": [
    "!pip install --upgrade diffusers[torch]\n",
    "!pip install transformers\n",
    "!pip install matplotlib\n",
    "!pip install opencv-python\n",
    "!pip install -U peft\n",
    "! pip install ftfy regex tqdm\n",
    "! pip install git+https://github.com/openai/CLIP.git"
   ]
  },
  {
   "cell_type": "code",
   "execution_count": null,
   "id": "54f9565a-35a8-4b4f-9af0-ff50e5eba920",
   "metadata": {},
   "outputs": [],
   "source": [
    "model_name = \"ViT-B/32\"\n",
    "model, preprocess = clip.load(model_name)"
   ]
  },
  {
   "cell_type": "code",
   "execution_count": null,
   "id": "41ee444e-e782-40e7-9997-ae2a6c00c044",
   "metadata": {},
   "outputs": [],
   "source": [
    "import torch\n",
    "import torch.nn.functional as F\n",
    "from torch import optim\n",
    "from transformers import CLIPProcessor, CLIPModel\n",
    "from PIL import Image\n",
    "import numpy as np \n",
    "import clip\n",
    "\n",
    "def inverse_image_to_text_embedding(model, processor, image, text_embedding, num_steps=500, lr=1e-2):\n",
    "    # Preprocess image\n",
    "    image_input = torch.tensor(np.stack([preprocess(image)])).cuda()\n",
    "    \n",
    "    # Get image features\n",
    "    with torch.no_grad():\n",
    "        image_features = model.encode_image(image_input).float()\n",
    "        image_features /= image_features.norm(dim=-1, keepdim=True)\n",
    "    \n",
    "    # Project image features into the joint embedding space\n",
    "    I_e = F.normalize(image_features, dim=0)  # Shape: [batch_size, d_e]\n",
    "    print(image_features.shape, I_e.shape)\n",
    "    \n",
    "    # Initialize text embedding tensor\n",
    "    text_embedding_dim = 512\n",
    "    seq_len = 77\n",
    "    text_embedding = torch.randn((1, seq_len, text_embedding_dim), requires_grad=True, device=\"cuda\")\n",
    "    \n",
    "    # Define the optimizer\n",
    "    optimizer = optim.Adam([text_embedding], lr=lr)\n",
    "    \n",
    "    for step in range(500):\n",
    "        optimizer.zero_grad()\n",
    "        \n",
    "        # Normalize the text embedding\n",
    "        T_e = F.normalize(text_embedding, dim=1)\n",
    "        print(text_embedding.shape)\n",
    "        # Compute cosine similarity\n",
    "        similarity = torch.matmul(image_features, T_e.mean(dim=1).T)\n",
    "        print(similarity.shape, image_features.shape, T_e.mean(dim=1).T.shape)\n",
    "        # Define the loss (negative cosine similarity)\n",
    "        loss = -similarity.mean()\n",
    "    \n",
    "        # Backpropagation\n",
    "        loss.backward()\n",
    "        optimizer.step()\n",
    "        print(f'Step [{step}/{num_steps}], Loss: {loss.item()}')\n",
    "            \n",
    "    return text_embedding\t\t\t\n",
    "\n",
    "# Definitions\n",
    "model_name = \"ViT-B/32\"\n",
    "image_name = \"1.png\"\n",
    "\n",
    "num_steps = 500\n",
    "lr = 1e-2\n",
    "\n",
    "image = Image.open(image_name)\n",
    "image.show()\n",
    "output_tensor = inverse_image_to_text_embedding(model, processor, image, num_steps, lr)\n",
    "\n",
    "torch.save(output_tensor, f\"emb_{image_name}.pt\")\n",
    "print(f\"Optimized text embeddings saved to 'optimized_text_embedding_{image_name}.pt'\")\n",
    "\n"
   ]
  }
 ],
 "metadata": {
  "kernelspec": {
   "display_name": "Python 3 (ipykernel)",
   "language": "python",
   "name": "python3"
  },
  "language_info": {
   "codemirror_mode": {
    "name": "ipython",
    "version": 3
   },
   "file_extension": ".py",
   "mimetype": "text/x-python",
   "name": "python",
   "nbconvert_exporter": "python",
   "pygments_lexer": "ipython3",
   "version": "3.8.18"
  }
 },
 "nbformat": 4,
 "nbformat_minor": 5
}
