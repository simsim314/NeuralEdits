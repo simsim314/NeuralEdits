{
 "cells": [
  {
   "cell_type": "code",
   "execution_count": null,
   "metadata": {
    "colab": {
     "base_uri": "https://localhost:8080/"
    },
    "id": "0BpdJkdBssk9",
    "outputId": "765c4f0a-866a-4f2d-af07-c30f6b14019f"
   },
   "outputs": [],
   "source": [
    "# ! pip install ftfy regex tqdm\n",
    "# ! pip install git+https://github.com/openai/CLIP.git\n",
    "!pip install matplotlib"
   ]
  },
  {
   "cell_type": "code",
   "execution_count": null,
   "metadata": {
    "colab": {
     "base_uri": "https://localhost:8080/"
    },
    "id": "C1hkDT38hSaP",
    "outputId": "2c2d3d08-41a9-4f77-b8dc-358d0fa642d5"
   },
   "outputs": [],
   "source": [
    "import numpy as np\n",
    "import torch\n",
    "print(\"Torch version:\", torch.__version__)\n",
    "import clip\n",
    "\n",
    "clip.available_models()\n",
    "model_name = \"ViT-B/32\"\n",
    "\n",
    "model, preprocess = clip.load(model_name)\n",
    "model.cuda().eval()\n",
    "input_resolution = model.visual.input_resolution\n",
    "context_length = model.context_length\n",
    "vocab_size = model.vocab_size\n",
    "\n",
    "print(\"Model parameters:\", f\"{np.sum([int(np.prod(p.shape)) for p in model.parameters()]):,}\")\n",
    "print(\"Input resolution:\", input_resolution)\n",
    "print(\"Context length:\", context_length)\n",
    "print(\"Vocab size:\", vocab_size)\n",
    "clip.tokenize(\"Hello World! How are you today?\").shape"
   ]
  },
  {
   "cell_type": "code",
   "execution_count": null,
   "metadata": {
    "id": "tMc1AXzBlhzm"
   },
   "outputs": [],
   "source": [
    "import os\n",
    "import IPython.display\n",
    "import matplotlib.pyplot as plt\n",
    "from PIL import Image\n",
    "import numpy as np\n",
    "\n",
    "from collections import OrderedDict\n",
    "import torch\n",
    "\n",
    "original_images = []\n",
    "images = []\n",
    "texts = [f\"This is a photo of a ssf officer\"]\n",
    "filename = \"./1.png\"\n",
    "image = Image.open(filename).convert(\"RGB\")\n",
    "image.show()\n",
    "# plt.imshow()\n",
    "\n",
    "# image = preprocess(image)\n",
    "# image_input = torch.tensor(np.stack([image])).cuda()\n",
    "image_input = torch.tensor(np.stack([preprocess(image)])).cuda()\n",
    "text_tokens = clip.tokenize([\"This is \" + desc for desc in texts]).cuda()\n",
    "\n",
    "with torch.no_grad():\n",
    "    image_features = model.encode_image(image_input).float()\n",
    "    \n",
    "    text_features = model.encode_text(text_tokens).float()\n",
    "    print(text_features)\n",
    "    \n",
    "    print(image_features.shape, text_features.shape)\n",
    "    \n",
    "    image_features /= image_features.norm(dim=-1, keepdim=True)\n",
    "    text_features /= text_features.norm(dim=-1, keepdim=True)\n",
    "    print(image_features.shape, text_features.shape)\n",
    "    \n",
    "    similarity = text_features.cpu().numpy() @ image_features.cpu().numpy().T\n",
    "\n",
    "print(similarity)"
   ]
  },
  {
   "cell_type": "code",
   "execution_count": null,
   "metadata": {
    "id": "C4S__zCGy2MT"
   },
   "outputs": [],
   "source": [
    "text_descriptions = [f\"This is a photo of a ssf officer\"]\n",
    "text_tokens = clip.tokenize(text_descriptions).cuda()\n",
    "text_tokens.shape, text_tokens[0]"
   ]
  },
  {
   "cell_type": "code",
   "execution_count": null,
   "metadata": {
    "id": "c4z1fm9vCpSR"
   },
   "outputs": [],
   "source": [
    "with torch.no_grad():\n",
    "    text_features = model.encode_text(text_tokens).float()\n",
    "    text_features /= text_features.norm(dim=-1, keepdim=True)\n",
    "\n",
    "text_probs = (100.0 * image_features @ text_features.T).softmax(dim=-1)\n",
    "top_probs, top_labels = text_probs.cpu().topk(1, dim=-1)"
   ]
  },
  {
   "cell_type": "code",
   "execution_count": null,
   "metadata": {
    "id": "d-u6Ba6xrtik"
   },
   "outputs": [],
   "source": [
    "with torch.no_grad():\n",
    "    image_features = model.encode_image(image_input).float()\n",
    "    text_features = model.encode_text(text_tokens).float()"
   ]
  },
  {
   "cell_type": "code",
   "execution_count": null,
   "metadata": {
    "colab": {
     "base_uri": "https://localhost:8080/"
    },
    "id": "evx1kDgAtVz1",
    "outputId": "89fac408-1f9b-41ec-e86e-3cc7e22bb779"
   },
   "outputs": [],
   "source": [
    "image_features /= image_features.norm(dim=-1, keepdim=True)\n",
    "text_features /= text_features.norm(dim=-1, keepdim=True)\n",
    "similarity = text_features.cpu().numpy() @ image_features.cpu().numpy().T\n",
    "similarity"
   ]
  },
  {
   "cell_type": "code",
   "execution_count": null,
   "metadata": {
    "id": "25SbLM4cD-Wf"
   },
   "outputs": [],
   "source": [
    "img_descriptions = ['a poster for an action movie',\n",
    "                    'a poster for a romance movie',\n",
    "                    'a poster for a bengali movie',\n",
    "                    'a poster for star wars',\n",
    "                    'a poster for the matrix',\n",
    "                    'a poster for a science fiction movie',\n",
    "                    'a love story']"
   ]
  },
  {
   "cell_type": "code",
   "execution_count": null,
   "metadata": {
    "id": "VRc-KT6kgw3K"
   },
   "outputs": [],
   "source": [
    "image_input = ?    # what would you need to put here?\n",
    "text_tokens = ?    # and here?"
   ]
  }
 ],
 "metadata": {
  "accelerator": "GPU",
  "colab": {
   "name": "Exploring CLIP.ipynb",
   "provenance": []
  },
  "kernelspec": {
   "display_name": "Python 3 (ipykernel)",
   "language": "python",
   "name": "python3"
  },
  "language_info": {
   "codemirror_mode": {
    "name": "ipython",
    "version": 3
   },
   "file_extension": ".py",
   "mimetype": "text/x-python",
   "name": "python",
   "nbconvert_exporter": "python",
   "pygments_lexer": "ipython3",
   "version": "3.8.18"
  }
 },
 "nbformat": 4,
 "nbformat_minor": 4
}
